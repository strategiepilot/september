{
 "metadata": {
  "language_info": {
   "codemirror_mode": {
    "name": "ipython",
    "version": 3
   },
   "file_extension": ".py",
   "mimetype": "text/x-python",
   "name": "python",
   "nbconvert_exporter": "python",
   "pygments_lexer": "ipython3",
   "version": "3.7.9"
  },
  "orig_nbformat": 2,
  "kernelspec": {
   "name": "python379jvsc74a57bd085f1432f14422801af96c512f0b265b095646212e0290d073e44c6a2d4c27e5f",
   "display_name": "Python 3.7.9 64-bit (conda)"
  }
 },
 "nbformat": 4,
 "nbformat_minor": 2,
 "cells": [
  {
   "cell_type": "code",
   "execution_count": 2,
   "metadata": {},
   "outputs": [],
   "source": [
    "import pandas as pd\n",
    "import numpy as np\n",
    "import os, sys, pickle, xlrd\n",
    "import matplotlib.pyplot as plt\n",
    "import seaborn as sns\n",
    "import datetime as dt\n",
    "from IPython.core.interactiveshell import InteractiveShell\n",
    "InteractiveShell.ast_node_interactivity = \"all\"\n",
    "%matplotlib inline\n",
    "\n",
    "pd.options.display.max_rows = 500\n",
    "pd.options.display.max_columns = 500\n",
    "pd.options.display.max_colwidth = 100 "
   ]
  },
  {
   "cell_type": "code",
   "execution_count": 3,
   "metadata": {},
   "outputs": [],
   "source": [
    "PATH = \"F:/Data/Projects AB/september/amazonReviewsTelekom.txt\"\n",
    "df = pd.read_csv(PATH, sep=\"\\t\", encoding=\"Utf8\")\n",
    "# df.shape\n",
    "# df.head()"
   ]
  },
  {
   "cell_type": "code",
   "execution_count": 4,
   "metadata": {},
   "outputs": [
    {
     "output_type": "execute_result",
     "data": {
      "text/plain": [
       "                                                                                                   txt  \\\n",
       "0    Da ich meinen gemieteten Router W724V zurückgeben wollte, habe ich mir den Smart 3 geholt.Wenn...   \n",
       "1    Top. Nach 3-5 Minuten hatte sich der Speedport selbst konfiguriert und alle Daten direkt vom T...   \n",
       "2    Da ich mich für die 250Mbit interessiere sollte der W724V ersetz werden. Also ausgetauscht gew...   \n",
       "3    Nachdem mein alter Router ein wenig in die Jahre gekommen ist und kaum noch Updates oder Weite...   \n",
       "4    Der Router ist bei mir während der Verwendung von Fire TV über WLAN reproduzierbar eingefroren...   \n",
       "\n",
       "         ReviewID           Reviewer               Date  Year    Model  \\\n",
       "0  R1FROCDL8A2QAT    \"T. Speckmaier\"  8. September 2018  2018  Smart 3   \n",
       "1  R29OVMD7E0H0H9  \"Andreas Gertzen\"   14. Oktober 2018  2018  Smart 3   \n",
       "2   RZWR35KTVEE61     \"Ulrich Loose\"  22. Dezember 2018  2018  Smart 3   \n",
       "3  R3KC8ODKQXPJNR    \"Thomas Kummer\"     5. Januar 2019  2019  Smart 3   \n",
       "4   R7Q03ORM42429           \"Thomas\"   24. Oktober 2018  2018  Smart 3   \n",
       "\n",
       "  Helpful Pic  Rating  \n",
       "0     248           5  \n",
       "1      79           5  \n",
       "2      62           4  \n",
       "3      61           5  \n",
       "4      66           1  "
      ],
      "text/html": "<div>\n<style scoped>\n    .dataframe tbody tr th:only-of-type {\n        vertical-align: middle;\n    }\n\n    .dataframe tbody tr th {\n        vertical-align: top;\n    }\n\n    .dataframe thead th {\n        text-align: right;\n    }\n</style>\n<table border=\"1\" class=\"dataframe\">\n  <thead>\n    <tr style=\"text-align: right;\">\n      <th></th>\n      <th>txt</th>\n      <th>ReviewID</th>\n      <th>Reviewer</th>\n      <th>Date</th>\n      <th>Year</th>\n      <th>Model</th>\n      <th>Helpful</th>\n      <th>Pic</th>\n      <th>Rating</th>\n    </tr>\n  </thead>\n  <tbody>\n    <tr>\n      <th>0</th>\n      <td>Da ich meinen gemieteten Router W724V zurückgeben wollte, habe ich mir den Smart 3 geholt.Wenn...</td>\n      <td>R1FROCDL8A2QAT</td>\n      <td>\"T. Speckmaier\"</td>\n      <td>8. September 2018</td>\n      <td>2018</td>\n      <td>Smart 3</td>\n      <td>248</td>\n      <td></td>\n      <td>5</td>\n    </tr>\n    <tr>\n      <th>1</th>\n      <td>Top. Nach 3-5 Minuten hatte sich der Speedport selbst konfiguriert und alle Daten direkt vom T...</td>\n      <td>R29OVMD7E0H0H9</td>\n      <td>\"Andreas Gertzen\"</td>\n      <td>14. Oktober 2018</td>\n      <td>2018</td>\n      <td>Smart 3</td>\n      <td>79</td>\n      <td></td>\n      <td>5</td>\n    </tr>\n    <tr>\n      <th>2</th>\n      <td>Da ich mich für die 250Mbit interessiere sollte der W724V ersetz werden. Also ausgetauscht gew...</td>\n      <td>RZWR35KTVEE61</td>\n      <td>\"Ulrich Loose\"</td>\n      <td>22. Dezember 2018</td>\n      <td>2018</td>\n      <td>Smart 3</td>\n      <td>62</td>\n      <td></td>\n      <td>4</td>\n    </tr>\n    <tr>\n      <th>3</th>\n      <td>Nachdem mein alter Router ein wenig in die Jahre gekommen ist und kaum noch Updates oder Weite...</td>\n      <td>R3KC8ODKQXPJNR</td>\n      <td>\"Thomas Kummer\"</td>\n      <td>5. Januar 2019</td>\n      <td>2019</td>\n      <td>Smart 3</td>\n      <td>61</td>\n      <td></td>\n      <td>5</td>\n    </tr>\n    <tr>\n      <th>4</th>\n      <td>Der Router ist bei mir während der Verwendung von Fire TV über WLAN reproduzierbar eingefroren...</td>\n      <td>R7Q03ORM42429</td>\n      <td>\"Thomas\"</td>\n      <td>24. Oktober 2018</td>\n      <td>2018</td>\n      <td>Smart 3</td>\n      <td>66</td>\n      <td></td>\n      <td>1</td>\n    </tr>\n  </tbody>\n</table>\n</div>"
     },
     "metadata": {},
     "execution_count": 4
    },
    {
     "output_type": "execute_result",
     "data": {
      "text/plain": [
       "5    438\n",
       "1     71\n",
       "4     68\n",
       "2     20\n",
       "3     16\n",
       "0      3\n",
       "Name: Rating, dtype: int64"
      ]
     },
     "metadata": {},
     "execution_count": 4
    }
   ],
   "source": [
    "df[\"ReviewID\"] = df.col1.apply(lambda txt: txt.split(\",\")[0])\n",
    "df[\"Reviewer\"] = df.col1.apply(lambda txt: txt.split(\",\")[1])\n",
    "df[\"Date\"]     = df.col3.apply(lambda txt: txt.split(\",\")[1])\n",
    "df[\"Date\"]     = df.Date.str.replace(\"Rezension aus Deutschland vom \",\"\").str.strip('\"')\n",
    "df[\"Year\"]     = df.Date.apply(lambda txt: txt.split()[2])\n",
    "df[\"Model\"]    = df.col3.apply(lambda txt: txt.split(\",\")[-1]).str.strip('\"')\n",
    "df[\"Helpful\"]  = df.col3.apply(lambda txt: txt.split(\",\")[-2]).str.strip('\"')\n",
    "df[\"Pic\"]       = df.col3.apply(lambda txt: txt.split(\",\")[-3]).str.strip('\"')\n",
    "\n",
    "# Rating Information aus String-Spalte extrahieren\n",
    "temp = df.col3.str.split('\"', expand = True)\n",
    "rating = temp.iloc[:,3]\n",
    "df[\"Rating\"] = rating.str.strip(\",\")\n",
    "df.Rating = pd.to_numeric(df.Rating)\n",
    "df.Rating = df.Rating.fillna(0).astype(int)\n",
    "\n",
    "# Aufräumen\n",
    "del temp\n",
    "del rating\n",
    "df.drop([\"col1\", \"col3\"], axis=1, inplace=True)\n",
    "\n",
    "# Info\n",
    "df.head()\n",
    "df.Rating.value_counts()"
   ]
  },
  {
   "cell_type": "code",
   "execution_count": null,
   "metadata": {},
   "outputs": [],
   "source": [
    "df.Rating.describe()"
   ]
  },
  {
   "cell_type": "code",
   "execution_count": null,
   "metadata": {},
   "outputs": [],
   "source": []
  }
 ]
}